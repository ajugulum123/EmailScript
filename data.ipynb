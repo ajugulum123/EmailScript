{
 "cells": [
  {
   "cell_type": "code",
   "outputs": [],
   "source": [
    "from linkedin_api import Linkedin\n",
    "import pandas as pd\n",
    "# ask user for their LinkedIn Credentials\n",
    "user_email = input(\"Enter your LinkedIn email address: \")\n",
    "user_password = input(\"Enter your LinkedIn password: \")\n",
    "def fetch_linkedin_info():\n",
    "    api = Linkedin(user_email, user_password)\n",
    "    #df_contacts = pd.read_csv('contacts.csv')\n",
    "\n",
    "    # ask user if they want to see info for a certain name in the CSV they are using\n",
    "    desired_connection = input(\"Enter the name of who you want to query information for (firstname-lastname): \")\n",
    "\n",
    "    profile_desired = api.get_profile(desired_connection)\n",
    "\n",
    "    return profile_desired"
   ],
   "metadata": {
    "collapsed": false,
    "ExecuteTime": {
     "end_time": "2025-04-16T22:50:57.357570Z",
     "start_time": "2025-04-16T22:50:49.550096Z"
    }
   },
   "id": "5b05f78d11899568",
   "execution_count": 33
  },
  {
   "cell_type": "code",
   "outputs": [
    {
     "data": {
      "text/plain": "{'lastName': 'Jugulum',\n 'student': False,\n 'geoCountryUrn': 'urn:li:fs_geo:103644278',\n 'geoLocationBackfilled': False,\n 'entityUrn': 'urn:li:fs_profile:ACoAADRCaeMBIrIW9GZiw3Zx1DdtbdWQrgjgcTo',\n 'headline': 'Data Science & Mathematics Student | Specializing in Predictive Analytics, Big Data & Machine Learning | Yielding Effective Solutions through Big Data',\n 'summary': 'Currently a fourth-year Data Science and Mathematics student at Northeastern University. Outside of the classroom/workplace, I enjoy watching international soccer, diving deep into new music and expanding my skill set while applying it to my interests. My love for data and its power push me to learn new techniques that can hopefully yield solutions for pressing issues in both the corporate world and general society. My curiosities within Data Science include Machine Learning, Data Engineering & Data Analytics.',\n 'industryName': 'Computer Software',\n 'locationName': 'United States',\n 'geoCountryName': 'United States',\n 'elt': False,\n 'profilePictureOriginalImage': {'com.linkedin.common.VectorImage': {'artifacts': [{'width': 720,\n     'fileIdentifyingUrlPathSegment': '900_1200/profile-originalphoto-shrink_900_1200/0/1734660106895?m=AQKINw5JXNtCdAAAAZZAzLCVgP5o1Jt7X3G7ttv4CzzU5PHI0nXwv1tXpw&e=1744930278&v=beta&t=KUGs5sIsyMXgpBNaKbY-6ouAl01ETLVFV3KBkqD6M9k',\n     'expiresAt': 1744930278000,\n     'height': 900},\n    {'width': 360,\n     'fileIdentifyingUrlPathSegment': '450_600/profile-originalphoto-shrink_450_600/0/1734660106895?m=AQLcpw55zod1OgAAAZZAzLCVvJpXXyoavcea9bT1s8eUshApnrYIn27OxA&e=1744930278&v=beta&t=oaEbqv8Acvkshm-ap7ejaeOT4TCBzgfVkOE5KbvB5cM',\n     'expiresAt': 1744930278000,\n     'height': 450}],\n   'rootUrl': 'https://www.linkedin.com/dms/prv/image/v2/D4E04AQFGhkmpaUrVzg/profile-originalphoto-shrink_'}},\n 'industryUrn': 'urn:li:fs_industry:4',\n 'firstName': 'Aaroh',\n 'profilePicture': {'displayImage': 'urn:li:digitalmediaAsset:D4E03AQHjwD-E-MvGeg',\n  'originalImage': 'urn:li:digitalmediaAsset:D4E04AQFGhkmpaUrVzg',\n  'photoFilterEditInfo': {'bottomLeft': {'x': 0.527389986677008,\n    'y': 0.16929999572312227},\n   'saturation': 0.0,\n   'brightness': 0.0,\n   'vignette': 0.0,\n   'photoFilterType': 'ORIGINAL',\n   'bottomRight': {'x': 0.7390099813310371, 'y': 0.16929999572312227},\n   'topLeft': {'x': 0.527389986677008, 'y': 0.0},\n   'contrast': 0.0,\n   'topRight': {'x': 0.7390099813310371, 'y': 0.0}}},\n 'geoLocation': {'geoUrn': 'urn:li:fs_geo:119343166', 'postalCode': '02038'},\n 'geoLocationName': 'Franklin, Massachusetts',\n 'location': {'basicLocation': {'countryCode': 'us', 'postalCode': '02038'}},\n 'backgroundPicture': {'displayImage': 'urn:li:digitalmediaAsset:D4E16AQGmSVjn-A_POA',\n  'originalImage': 'urn:li:digitalmediaAsset:D4E04AQFSD83MyFozUA'},\n 'backgroundPictureOriginalImage': {'com.linkedin.common.VectorImage': {'artifacts': [{'width': 1584,\n     'fileIdentifyingUrlPathSegment': '396_1584/profile-originalbackgroundimage-shrink_396_1584/0/1678573409418?m=AQLMfyHfCC2GoQAAAZZAzLCYRSIRw5z5pZrnAz1psl9FEPd7Xlv-qX3c0g&e=1744930278&v=beta&t=klMOKQ7xCX_g6I95wRdczIYRWIi2HahWVrm93enAm7Y',\n     'expiresAt': 1744930278000,\n     'height': 396},\n    {'width': 800,\n     'fileIdentifyingUrlPathSegment': '200_800/profile-originalbackgroundimage-shrink_200_800/0/1678573409418?m=AQKtahPwDmfHlwAAAZZAzLCZhn2OqXpVIIPMIWZ6qj4kHGnxDnloyb6DbA&e=1744930278&v=beta&t=43EjRvtS_kf9oTQS9-lTnpduDvNBu6ahxC8gTjx9Z6A',\n     'expiresAt': 1744930278000,\n     'height': 200}],\n   'rootUrl': 'https://www.linkedin.com/dms/prv/image/v2/D4E04AQFSD83MyFozUA/profile-originalbackgroundimage-shrink_'}},\n 'displayPictureUrl': 'https://media.licdn.com/dms/image/v2/D4E03AQHjwD-E-MvGeg/profile-displayphoto-shrink_',\n 'img_200_200': '200_200/B4EZPhzKcpGYAc-/0/1734660106617?e=1750291200&v=beta&t=wFbv0bf_6lPbvt_L6txlbvv6UuVHKXJIQg4PgiIUwiY',\n 'img_339_339': '400_400/B4EZPhzKcpGYAk-/0/1734660106615?e=1750291200&v=beta&t=tQqEy9c4W94inOoTUflOOnfxjCnWqM86SvHWRcS6Mzg',\n 'img_100_100': '100_100/B4EZPhzKcpGYAY-/0/1734660106617?e=1750291200&v=beta&t=qkcg-cYZZAppH5d92ssJ7ExIeFLNnEDI5MgUlmNbsto',\n 'profile_id': 'ACoAADRCaeMBIrIW9GZiw3Zx1DdtbdWQrgjgcTo',\n 'profile_urn': 'urn:li:fs_miniProfile:ACoAADRCaeMBIrIW9GZiw3Zx1DdtbdWQrgjgcTo',\n 'member_urn': 'urn:li:member:876767715',\n 'public_id': 'aaroh-jugulum-883764205',\n 'experience': [{'locationName': 'Boston, Massachusetts, United States',\n   'entityUrn': 'urn:li:fs_position:(ACoAADRCaeMBIrIW9GZiw3Zx1DdtbdWQrgjgcTo,2125065627)',\n   'geoLocationName': 'Boston, Massachusetts, United States',\n   'geoUrn': 'urn:li:fs_geo:102380872',\n   'companyName': 'Northeastern University',\n   'timePeriod': {'startDate': {'month': 9, 'year': 2022}},\n   'company': {'employeeCountRange': {'start': 5001, 'end': 10000},\n    'industries': ['Higher Education']},\n   'title': 'Teaching Assistant',\n   'region': 'urn:li:fs_region:(us,0)',\n   'companyUrn': 'urn:li:fs_miniCompany:5274',\n   'companyLogoUrl': 'https://media.licdn.com/dms/image/v2/C4D0BAQGwTPCvlTQlvw/company-logo_'},\n  {'entityUrn': 'urn:li:fs_position:(ACoAADRCaeMBIrIW9GZiw3Zx1DdtbdWQrgjgcTo,1731836943)',\n   'companyName': 'Extra Point Sports (XPS)',\n   'timePeriod': {'startDate': {'month': 7, 'year': 2020}},\n   'description': 'Developed an algorithm helpful with predicting competition level between NFL teams allowing bettors to make more informed bets on props such as spread and point difference.',\n   'title': 'Founder'},\n  {'locationName': 'Boston, Massachusetts, United States',\n   'entityUrn': 'urn:li:fs_position:(ACoAADRCaeMBIrIW9GZiw3Zx1DdtbdWQrgjgcTo,2212352631)',\n   'geoLocationName': 'Boston, Massachusetts, United States',\n   'geoUrn': 'urn:li:fs_geo:102380872',\n   'companyName': 'MassDOT',\n   'timePeriod': {'endDate': {'month': 12, 'year': 2023},\n    'startDate': {'month': 7, 'year': 2023}},\n   'description': \"Created 15 R-Scripts which delivered insights on Boston's transit situation to OPMI's public open-data portal. Additionally employed Python and SQL to perform investigative work on the effectiveness of Boston's public transit, comparing it with ride-share and bike-share systems within the city.\",\n   'company': {'employeeCountRange': {'start': 1001, 'end': 5000},\n    'industries': ['Government Administration']},\n   'title': 'Data Engineering and Visualization Co-op',\n   'region': 'urn:li:fs_region:(us,0)',\n   'companyUrn': 'urn:li:fs_miniCompany:1317315',\n   'companyLogoUrl': 'https://media.licdn.com/dms/image/v2/C4D0BAQG8eXx16SCaiw/company-logo_'},\n  {'locationName': 'Wrentham, Massachusetts, United States',\n   'entityUrn': 'urn:li:fs_position:(ACoAADRCaeMBIrIW9GZiw3Zx1DdtbdWQrgjgcTo,2138358940)',\n   'geoLocationName': 'Wrentham, Massachusetts, United States',\n   'geoUrn': 'urn:li:fs_geo:101692647',\n   'companyName': 'Nike',\n   'timePeriod': {'endDate': {'month': 8, 'year': 2022},\n    'startDate': {'month': 6, 'year': 2022}},\n   'description': 'Worked as a retail sales associate at the Nike Wrentham Outlet Store.',\n   'company': {'employeeCountRange': {'start': 10001},\n    'industries': ['Retail']},\n   'title': 'Retail Sales Associate',\n   'region': 'urn:li:fs_region:(us,0)',\n   'companyUrn': 'urn:li:fs_miniCompany:2029',\n   'companyLogoUrl': 'https://media.licdn.com/dms/image/v2/D560BAQHJk7IdfuV1Dw/company-logo_'},\n  {'entityUrn': 'urn:li:fs_position:(ACoAADRCaeMBIrIW9GZiw3Zx1DdtbdWQrgjgcTo,1731843628)',\n   'companyName': 'Salvation Army',\n   'timePeriod': {'endDate': {'month': 12, 'year': 2017},\n    'startDate': {'month': 9, 'year': 2017}},\n   'description': 'Volunteered for 3-4 months in 2017, both by raising money through conducting various clubs, and spreading the message of giving to the less fortunate.',\n   'company': {'employeeCountRange': {'start': 10001},\n    'industries': ['Nonprofit Organization Management']},\n   'title': 'Volunteer',\n   'companyUrn': 'urn:li:fs_miniCompany:9507463',\n   'companyLogoUrl': 'https://media.licdn.com/dms/image/v2/D4E0BAQEbHLQONkpJZQ/company-logo_'}],\n 'education': [{'entityUrn': 'urn:li:fs_education:(ACoAADRCaeMBIrIW9GZiw3Zx1DdtbdWQrgjgcTo,864893898)',\n   'school': {'objectUrn': 'urn:li:school:18506',\n    'entityUrn': 'urn:li:fs_miniSchool:18506',\n    'active': True,\n    'schoolName': 'Northeastern University',\n    'trackingId': 'wS2gKmmuRMKQ1HYDCqXE/A==',\n    'logoUrl': 'https://media.licdn.com/dms/image/v2/C4D0BAQGwTPCvlTQlvw/company-logo_'},\n   'activities': 'Finance Club',\n   'timePeriod': {'endDate': {'month': 5, 'year': 2025},\n    'startDate': {'month': 9, 'year': 2021}},\n   'degreeName': 'Bachelor of Science - BS',\n   'schoolName': 'Northeastern University',\n   'fieldOfStudy': 'Data Science and Mathematics  (Minor - Business Administration)',\n   'degreeUrn': 'urn:li:fs_degree:400',\n   'schoolUrn': 'urn:li:fs_miniSchool:18506'},\n  {'entityUrn': 'urn:li:fs_education:(ACoAADRCaeMBIrIW9GZiw3Zx1DdtbdWQrgjgcTo,704036834)',\n   'activities': '-National Honor Society: Recognized for academic success and involvement in both my town and my school community. \\n-Ryken Honors/First Honors/Second Honors: Received these academic achievements throughout my high school career\\n-National French Honor Society\\n-French National Exam Silver Medal\\n-Cross Country \\n-Track & Field\\n-Mock Trail\\n-Peer Ministry \\n-Tabla (Indian classical percussion instruments)\\n',\n   'timePeriod': {'endDate': {'year': 2021}, 'startDate': {'year': 2017}},\n   'degreeName': 'High School Diploma ',\n   'schoolName': 'Xaverian Brothers High School',\n   'fieldOfStudy': 'Business/Economics (Coursework: Economics, European History, English,French, Calculus, Statistics)'}],\n 'languages': [],\n 'publications': [],\n 'certifications': [],\n 'volunteer': [],\n 'honors': [],\n 'projects': [],\n 'skills': [{'name': 'Python (Programming Language)'},\n  {'name': 'SQL'},\n  {'name': 'JavaScript'},\n  {'name': 'Java'}],\n 'urn_id': 'ACoAADRCaeMBIrIW9GZiw3Zx1DdtbdWQrgjgcTo'}"
     },
     "execution_count": 34,
     "metadata": {},
     "output_type": "execute_result"
    }
   ],
   "source": [
    "# gesong2154\n",
    "profile_desired = fetch_linkedin_info()\n",
    "profile_desired"
   ],
   "metadata": {
    "collapsed": false,
    "ExecuteTime": {
     "end_time": "2025-04-16T22:51:18.895325Z",
     "start_time": "2025-04-16T22:51:00.005352Z"
    }
   },
   "id": "adcebc58b7c7e1fd",
   "execution_count": 34
  },
  {
   "cell_type": "code",
   "outputs": [],
   "source": [
    "# helper function \n",
    "def remove_dict_from_list(dict_list):\n",
    "    merged_dict = dict()\n",
    "    for i in dict_list:\n",
    "        merged_dict.update(i)\n",
    "    return merged_dict"
   ],
   "metadata": {
    "collapsed": false,
    "ExecuteTime": {
     "end_time": "2025-04-16T22:59:19.990915Z",
     "start_time": "2025-04-16T22:59:19.987527Z"
    }
   },
   "id": "18c3b1a4a145b354",
   "execution_count": 42
  },
  {
   "cell_type": "code",
   "outputs": [],
   "source": [
    "def fetch_company_info(specific_info):\n",
    "    \"\"\"\n",
    "    Fetches company name from the 'experience' section of the LinkedIn profile.\n",
    "    \"\"\"\n",
    "    if isinstance(specific_info, dict):\n",
    "        if 'experience' in specific_info:\n",
    "            company_name = specific_info['experience']\n",
    "\n",
    "            if isinstance(company_name, list):\n",
    "                for item in company_name:\n",
    "                    if isinstance(item, dict) and 'companyName' in item:\n",
    "                        return item['companyName']\n",
    "\n",
    "            elif isinstance(company_name, dict):\n",
    "                if 'companyName' in company_name:\n",
    "                    return company_name['companyName']\n",
    "            else:\n",
    "                print(\"DataType Invalid\")\n",
    "        else:\n",
    "            print(\"'experience' key not found\")\n",
    "    else:\n",
    "        print('DataType Invalid')\n",
    "\n",
    "    return None"
   ],
   "metadata": {
    "collapsed": false,
    "ExecuteTime": {
     "end_time": "2025-04-16T22:59:20.432126Z",
     "start_time": "2025-04-16T22:59:20.426628Z"
    }
   },
   "id": "3f19673bf351066a",
   "execution_count": 43
  },
  {
   "cell_type": "code",
   "outputs": [],
   "source": [
    " def fetch_school_name(specific_info):\n",
    "    \"\"\"\n",
    "    Fetches school name from the 'education' section of the LinkedIn profile.\n",
    "    \"\"\"\n",
    "    def dict_case(specific_info):\n",
    "        count = 0\n",
    "        school_name_col = None\n",
    "        for i in specific_info.keys():\n",
    "            if i == 'education':\n",
    "                count += 1\n",
    "                if count == 1:\n",
    "                    school_name = remove_dict_from_list(specific_info[i])\n",
    "                    for j in school_name.keys():\n",
    "                        if j == 'schoolName':\n",
    "                            school_name_col = school_name[j]\n",
    "        return school_name_col\n",
    "\n",
    "    if isinstance(specific_info, dict):\n",
    "        school_name_col = dict_case(specific_info)\n",
    "    elif isinstance(specific_info, list):\n",
    "        merged_dict = remove_dict_from_list(specific_info)\n",
    "        school_name_col = dict_case(merged_dict)\n",
    "    else:\n",
    "        print('Enter a valid data type!')\n",
    "\n",
    "    return school_name_col\n"
   ],
   "metadata": {
    "collapsed": false,
    "ExecuteTime": {
     "end_time": "2025-04-16T22:59:20.791545Z",
     "start_time": "2025-04-16T22:59:20.785062Z"
    }
   },
   "id": "8bf2b3ac763176e9",
   "execution_count": 44
  },
  {
   "cell_type": "code",
   "outputs": [],
   "source": [
    "def fetch_position_info(specific_info):\n",
    "    \"\"\"\n",
    "    Fetches position information from the 'experience' section of the LinkedIn profile.\n",
    "    \"\"\"\n",
    "    def if_dict_sit(specific_info):\n",
    "        count = 0\n",
    "        for i in specific_info.keys():\n",
    "            if i == 'experience':\n",
    "                count += 1\n",
    "                if count == 1:\n",
    "                    pos_info = specific_info[i]\n",
    "                    pos_info_dict = remove_dict_from_list(pos_info)\n",
    "                    pos_name = pos_info_dict['title']\n",
    "        return pos_name\n",
    "\n",
    "    if isinstance(specific_info, dict):\n",
    "        pos_name = if_dict_sit(specific_info)\n",
    "    elif isinstance(specific_info, list):\n",
    "        merged_dict = remove_dict_from_list(specific_info)\n",
    "        pos_name = if_dict_sit(merged_dict)\n",
    "\n",
    "    return pos_name"
   ],
   "metadata": {
    "collapsed": false,
    "ExecuteTime": {
     "end_time": "2025-04-16T22:59:21.121760Z",
     "start_time": "2025-04-16T22:59:21.117194Z"
    }
   },
   "id": "b1b54107eaffb2d0",
   "execution_count": 45
  },
  {
   "cell_type": "code",
   "outputs": [],
   "source": [
    "def fetch_specific_linkedin_info(profile_desired):\n",
    "    \"\"\"\n",
    "    Fetches specific LinkedIn profile information based on user input.\n",
    "    \"\"\"\n",
    "    # init info desired with a user input\n",
    "    info_desired = input(\"From these options: [education, experience, position] what information do you want to fetch: \")\n",
    "\n",
    "    # case based on the type of information requested\n",
    "    if info_desired == 'education':\n",
    "        return fetch_school_name(profile_desired)\n",
    "    elif info_desired == 'experience':\n",
    "        return fetch_company_info(profile_desired)\n",
    "    elif info_desired == 'position':\n",
    "        return fetch_position_info(profile_desired)\n",
    "    else:\n",
    "        print('Info type not recognized, try again!')\n",
    "\n",
    "    return None"
   ],
   "metadata": {
    "collapsed": false,
    "ExecuteTime": {
     "end_time": "2025-04-16T22:59:21.439893Z",
     "start_time": "2025-04-16T22:59:21.436363Z"
    }
   },
   "id": "7db1a6da7d882ef1",
   "execution_count": 46
  },
  {
   "cell_type": "code",
   "outputs": [
    {
     "name": "stdout",
     "output_type": "stream",
     "text": [
      "Volunteer\n"
     ]
    }
   ],
   "source": [
    "info_desired_out = fetch_specific_linkedin_info(profile_desired)\n",
    "print(info_desired_out)"
   ],
   "metadata": {
    "collapsed": false,
    "ExecuteTime": {
     "end_time": "2025-04-16T22:59:58.493179Z",
     "start_time": "2025-04-16T22:59:56.086751Z"
    }
   },
   "id": "7d30cad029e21b17",
   "execution_count": 49
  },
  {
   "cell_type": "code",
   "outputs": [],
   "source": [],
   "metadata": {
    "collapsed": false,
    "ExecuteTime": {
     "end_time": "2025-04-16T20:16:31.043658Z",
     "start_time": "2025-04-16T20:16:31.039339Z"
    }
   },
   "id": "283c8210c2f7e02f",
   "execution_count": 13
  },
  {
   "cell_type": "code",
   "outputs": [],
   "source": [],
   "metadata": {
    "collapsed": false
   },
   "id": "f52c4f1b83a9a82f"
  }
 ],
 "metadata": {
  "kernelspec": {
   "display_name": "Python 3",
   "language": "python",
   "name": "python3"
  },
  "language_info": {
   "codemirror_mode": {
    "name": "ipython",
    "version": 2
   },
   "file_extension": ".py",
   "mimetype": "text/x-python",
   "name": "python",
   "nbconvert_exporter": "python",
   "pygments_lexer": "ipython2",
   "version": "2.7.6"
  }
 },
 "nbformat": 4,
 "nbformat_minor": 5
}
